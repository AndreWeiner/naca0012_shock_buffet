{
 "cells": [
  {
   "cell_type": "markdown",
   "id": "informed-journal",
   "metadata": {},
   "source": [
    "# Assemble and save data matrices"
   ]
  },
  {
   "cell_type": "code",
   "execution_count": 1,
   "id": "imported-cartridge",
   "metadata": {},
   "outputs": [],
   "source": [
    "import numpy as np\n",
    "import torch as pt\n",
    "import matplotlib.pyplot as plt\n",
    "from stl import mesh\n",
    "from flowtorch.data import FOAMDataloader, mask_box\n",
    "\n",
    "plt.rcParams['figure.dpi'] = 160\n",
    "\n",
    "run = \"/media/andre/Elements/naca0012_shock_buffet/run/\"\n",
    "output = \"./output/\"\n",
    "!mkdir -p output"
   ]
  },
  {
   "cell_type": "markdown",
   "id": "essential-willow",
   "metadata": {},
   "source": [
    "## 2D simulation"
   ]
  },
  {
   "cell_type": "code",
   "execution_count": 3,
   "id": "interracial-anaheim",
   "metadata": {},
   "outputs": [
    {
     "name": "stdout",
     "output_type": "stream",
     "text": [
      "Available snapshots:  2500\n",
      "Available fields:  ['alphat', 'Ma', 'nut', 'nuTilda', 'p', 'rho', 'T', 'total(p)_coeff', 'U', 'yPlus']\n"
     ]
    }
   ],
   "source": [
    "chord = 0.6010500\n",
    "\n",
    "path = run + \"rhoCF_set1_alpha4_saiddes_ref2/\"\n",
    "loader = FOAMDataloader(path)\n",
    "write_times = loader.write_times[1:]\n",
    "fields = loader.field_names[write_times[0]]\n",
    "vertices = loader.vertices\n",
    "weights = loader.weights\n",
    "print(\"Available snapshots: \", len(write_times))\n",
    "print(\"Available fields: \", fields)"
   ]
  },
  {
   "cell_type": "code",
   "execution_count": 4,
   "id": "olive-liberia",
   "metadata": {},
   "outputs": [
    {
     "name": "stdout",
     "output_type": "stream",
     "text": [
      "selected points:  168508\n"
     ]
    }
   ],
   "source": [
    "vertices /= chord\n",
    "mask = mask_box(vertices[:, :2], [-1, -1], [3, 1])\n",
    "n_points = mask.sum().item()\n",
    "\n",
    "x = pt.masked_select(vertices[:, 0], mask)\n",
    "y = pt.masked_select(vertices[:, 1], mask)\n",
    "weights = pt.masked_select(weights, mask)\n",
    "print(\"selected points: \", n_points)"
   ]
  },
  {
   "cell_type": "code",
   "execution_count": 5,
   "id": "south-removal",
   "metadata": {},
   "outputs": [],
   "source": [
    "pt.save(x, f'{output}x_masked_2D_ref2.pt')\n",
    "pt.save(y, f'{output}y_masked_2D_ref2.pt')\n",
    "pt.save(weights, f'{output}vol_masked_2D_ref2.pt')"
   ]
  },
  {
   "cell_type": "code",
   "execution_count": 6,
   "id": "heard-great",
   "metadata": {},
   "outputs": [],
   "source": [
    "times_num = pt.tensor([float(t) for t in write_times])\n",
    "pt.save(times_num, f'{output}t_2D_ref2.pt')"
   ]
  },
  {
   "cell_type": "code",
   "execution_count": 9,
   "id": "vital-incidence",
   "metadata": {},
   "outputs": [
    {
     "data": {
      "text/plain": [
       "('0.031', '0.231')"
      ]
     },
     "execution_count": 9,
     "metadata": {},
     "output_type": "execute_result"
    }
   ],
   "source": [
    "write_times[309], write_times[2309]"
   ]
  },
  {
   "cell_type": "code",
   "execution_count": 10,
   "id": "informative-exception",
   "metadata": {},
   "outputs": [
    {
     "name": "stdout",
     "output_type": "stream",
     "text": [
      " Processing snapshot 2001/2001"
     ]
    }
   ],
   "source": [
    "time_window = write_times[309:2310]\n",
    "Ux = pt.zeros((n_points, len(time_window)))\n",
    "Uy = pt.zeros_like(Ux)\n",
    "Ma_loc = pt.zeros_like(Ux)\n",
    "for i, time in enumerate(time_window):\n",
    "    print(\"\\r\", f\"Processing snapshot {i+1}/{len(time_window)}\", end=\"\")\n",
    "    U_i, Ma_i = loader.load_snapshot([\"U\", \"Ma\"], time)\n",
    "    Ux[:, i] = pt.masked_select(U_i[:, 0], mask)\n",
    "    Uy[:, i] = pt.masked_select(U_i[:, 1], mask)\n",
    "    Ma_loc[:, i] = pt.masked_select(Ma_i, mask)"
   ]
  },
  {
   "cell_type": "code",
   "execution_count": 11,
   "id": "periodic-integral",
   "metadata": {},
   "outputs": [],
   "source": [
    "alpha = 1.0\n",
    "kappa = 1.4\n",
    "sqWeights = weights.sqrt().unsqueeze(-1)\n",
    "data_matrix = pt.zeros((3*n_points, len(time_window)))\n",
    "data_matrix[:n_points, :] = Ux * sqWeights\n",
    "data_matrix[n_points:2*n_points, :] = Uy * sqWeights\n",
    "data_matrix[2*n_points:, :] = 2.0*alpha/(kappa-1.0) * pt.sqrt(Ux**2 + Uy**2) / Ma_loc * sqWeights"
   ]
  },
  {
   "cell_type": "code",
   "execution_count": 12,
   "id": "indirect-thomas",
   "metadata": {},
   "outputs": [],
   "source": [
    "pt.save(data_matrix, f'{output}comp_data_matrix_2D_ref2.pt')"
   ]
  },
  {
   "cell_type": "markdown",
   "id": "actual-dinner",
   "metadata": {},
   "source": [
    "## 3D simulation"
   ]
  },
  {
   "cell_type": "code",
   "execution_count": 13,
   "id": "challenging-grain",
   "metadata": {},
   "outputs": [
    {
     "name": "stdout",
     "output_type": "stream",
     "text": [
      "Loading precomputed cell centers and volumes from constant/\n",
      "Available snapshots:  1255\n",
      "Available fields:  ['alphat', 'Ma', 'nut', 'nuTilda', 'p', 'rho', 'T', 'total(p)_coeff', 'U', 'yPlus']\n"
     ]
    }
   ],
   "source": [
    "path = run + \"rhoCF_set1_alpha4_saiddes_ref0_z25/\"\n",
    "loader = FOAMDataloader(path)\n",
    "write_times = loader.write_times[1:]\n",
    "fields = loader.field_names[write_times[0]]\n",
    "loader._case._distributed = False\n",
    "vertices = loader.vertices\n",
    "volumes = loader.weights\n",
    "print(\"Available snapshots: \", len(write_times))\n",
    "print(\"Available fields: \", fields)"
   ]
  },
  {
   "cell_type": "code",
   "execution_count": 14,
   "id": "prostate-camel",
   "metadata": {},
   "outputs": [
    {
     "name": "stdout",
     "output_type": "stream",
     "text": [
      "selected points:  79706\n"
     ]
    }
   ],
   "source": [
    "vertices /= chord\n",
    "# pick a slice from the middle spanwise position\n",
    "mask = mask_box(vertices, [-1, -1, 0.0024042/chord], [3, 1, 0.0072126/chord])\n",
    "n_points = mask.sum().item()\n",
    "\n",
    "x = pt.masked_select(vertices[:, 0], mask)\n",
    "y = pt.masked_select(vertices[:, 1], mask)\n",
    "weights = pt.masked_select(volumes, mask)\n",
    "print(\"selected points: \", n_points)"
   ]
  },
  {
   "cell_type": "code",
   "execution_count": 15,
   "id": "given-france",
   "metadata": {},
   "outputs": [],
   "source": [
    "pt.save(x, f'{output}x_masked_3D_ref0.pt')\n",
    "pt.save(y, f'{output}y_masked_3D_ref0.pt')\n",
    "pt.save(weights, f'{output}vol_masked_3D_ref0.pt')"
   ]
  },
  {
   "cell_type": "code",
   "execution_count": 16,
   "id": "accepting-dinner",
   "metadata": {},
   "outputs": [],
   "source": [
    "times_num = pt.tensor([float(t) for t in write_times])\n",
    "pt.save(times_num, f'{output}t_3D_ref0.pt')"
   ]
  },
  {
   "cell_type": "code",
   "execution_count": 18,
   "id": "referenced-baker",
   "metadata": {},
   "outputs": [
    {
     "data": {
      "text/plain": [
       "('0.0326', '0.1015')"
      ]
     },
     "execution_count": 18,
     "metadata": {},
     "output_type": "execute_result"
    }
   ],
   "source": [
    "write_times[322], write_times[1011]"
   ]
  },
  {
   "cell_type": "code",
   "execution_count": 19,
   "id": "third-overview",
   "metadata": {},
   "outputs": [
    {
     "name": "stdout",
     "output_type": "stream",
     "text": [
      " Processing snapshot 690/690"
     ]
    }
   ],
   "source": [
    "time_window = write_times[322:1012]\n",
    "Ux = pt.zeros((n_points, len(time_window)))\n",
    "Uy = pt.zeros_like(Ux)\n",
    "Uz = pt.zeros_like(Ux)\n",
    "Ma_loc = pt.zeros_like(Ux)\n",
    "for i, time in enumerate(time_window):\n",
    "    print(\"\\r\", f\"Processing snapshot {i+1}/{len(time_window)}\", end=\"\")\n",
    "    U_i, Ma_i = loader.load_snapshot([\"U\", \"Ma\"], time)\n",
    "    Ux[:, i] = pt.masked_select(U_i[:, 0], mask)\n",
    "    Uy[:, i] = pt.masked_select(U_i[:, 1], mask)\n",
    "    Uz[:, i] = pt.masked_select(U_i[:, 2], mask)\n",
    "    Ma_loc[:, i] = pt.masked_select(Ma_i, mask)"
   ]
  },
  {
   "cell_type": "code",
   "execution_count": 20,
   "id": "casual-partner",
   "metadata": {},
   "outputs": [],
   "source": [
    "sqWeights = weights.sqrt().unsqueeze(-1)\n",
    "data_matrix = pt.zeros((4*n_points, len(time_window)))\n",
    "data_matrix[:n_points, :] = Ux * sqWeights\n",
    "data_matrix[n_points:2*n_points, :] = Uy * sqWeights\n",
    "data_matrix[2*n_points:3*n_points, :] = Uz * sqWeights\n",
    "data_matrix[3*n_points:, :] = 2.0*alpha/(kappa-1.0) * pt.sqrt(Ux**2 + Uy**2 + Uz**2) / Ma_loc * sqWeights"
   ]
  },
  {
   "cell_type": "code",
   "execution_count": null,
   "id": "floppy-february",
   "metadata": {},
   "outputs": [],
   "source": [
    "pt.save(data_matrix, f'{output}comp_data_matrix_3D_ref0.pt')"
   ]
  },
  {
   "cell_type": "code",
   "execution_count": null,
   "id": "rapid-mother",
   "metadata": {},
   "outputs": [],
   "source": []
  }
 ],
 "metadata": {
  "kernelspec": {
   "display_name": "Python 3",
   "language": "python",
   "name": "python3"
  },
  "language_info": {
   "codemirror_mode": {
    "name": "ipython",
    "version": 3
   },
   "file_extension": ".py",
   "mimetype": "text/x-python",
   "name": "python",
   "nbconvert_exporter": "python",
   "pygments_lexer": "ipython3",
   "version": "3.8.10"
  }
 },
 "nbformat": 4,
 "nbformat_minor": 5
}
